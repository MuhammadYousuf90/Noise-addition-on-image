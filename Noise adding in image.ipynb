{
 "cells": [
  {
   "cell_type": "code",
   "execution_count": 9,
   "id": "80f0eb53",
   "metadata": {},
   "outputs": [],
   "source": [
    "import cv2"
   ]
  },
  {
   "cell_type": "code",
   "execution_count": 10,
   "id": "6efea643",
   "metadata": {},
   "outputs": [],
   "source": [
    "import numpy as np\n",
    "from matplotlib import pyplot as plt"
   ]
  },
  {
   "cell_type": "code",
   "execution_count": 14,
   "id": "aae8675d",
   "metadata": {},
   "outputs": [],
   "source": [
    "img = cv2.imread('gaussnoise.jpg')\n",
    "\n",
    "blur = cv2.GaussianBlur(img,(5,5),0)"
   ]
  },
  {
   "cell_type": "code",
   "execution_count": 16,
   "id": "9aae00f5",
   "metadata": {},
   "outputs": [],
   "source": [
    "plt.subplot(121).plt.imshow(img),plt.title('Original')\n",
    "plt.xticks([]), plt.yticks([])\n",
    "plt.subplot(122), plt.imshow(blur),plt.title('Average')\n",
    "plt.xticks([]), plt.yticks([])\n",
    "cv2.imwrite('gaussfiltered.jpg', blur)\n",
    "plt.show()"
   ]
  },
  {
   "cell_type": "code",
   "execution_count": null,
   "id": "6983e7bb",
   "metadata": {},
   "outputs": [],
   "source": []
  },
  {
   "cell_type": "code",
   "execution_count": null,
   "id": "e3994ded",
   "metadata": {},
   "outputs": [],
   "source": [
    "import cv2\n",
    "import numpy as np\n",
    "from matplotlib import pyplot as plt\n",
    "\n",
    "img = cv2.imread('gaussnoise.jpg')\n",
    "\n",
    "blur = cv2.GaussianBlur(img,(5,5),0)\n",
    "\n",
    "plt.subplot(121).plt.imshow(img),plt.title('Original')\n",
    "plt.xticks([]), plt.yticks([])\n",
    "plt.subplot(122), plt.imshow(blur),plt.title('Average')\n",
    "plt.xticks([]), plt.yticks([])\n",
    "cv2.imwrite('gaussfiltered.jpg', blur)\n",
    "plt.show()"
   ]
  },
  {
   "cell_type": "code",
   "execution_count": null,
   "id": "d7fa9423",
   "metadata": {},
   "outputs": [],
   "source": [
    "#Poisson"
   ]
  },
  {
   "cell_type": "code",
   "execution_count": null,
   "id": "ca345ba9",
   "metadata": {},
   "outputs": [],
   "source": [
    "import numpy as \n",
    "import random\n",
    "import cv2\n",
    "from matplotlib import pyplot as plt\n",
    "\n",
    "def sp_noise(image,prob):\n",
    "    output=np.zeros(image.shape, np.uint8)\n",
    "    thres = 1 - prob\n",
    "    for i in range(image.shape[0]):\n",
    "        for j in range(image.shape[1]):\n",
    "            rdn = random.random()\n",
    "            if rdn < prob:\n",
    "                output[i][j] = 0\n",
    "            elif rdn > thres:\n",
    "                output[i][j] = 255\n",
    "            else:\n",
    "                output[i][j] = image[i][j]\n",
    "                \n",
    "    return output\n",
    "\n",
    "\n",
    "\n",
    "image = cv2.imread('test.jpg' , 0) # only for grayscale img\n",
    "noise_img = sp_noise(image, 0.05)\n",
    "cv2.imwrite('saltpepper.jpg', noise_img)\n",
    "\n",
    "plt.subplot(121), plt.imshow(image, cmap=\"gray\")\n",
    "plt.subplot(122), plt.imshow(noise_img, cmap=\"gray\")\n",
    "plt.show()"
   ]
  },
  {
   "cell_type": "code",
   "execution_count": null,
   "id": "54bf6c61",
   "metadata": {},
   "outputs": [],
   "source": []
  },
  {
   "cell_type": "code",
   "execution_count": null,
   "id": "e8ccce19",
   "metadata": {},
   "outputs": [],
   "source": [
    "import numpy as \n",
    "import random\n",
    "import cv2\n",
    "from matplotlib import pyplot as plt\n",
    "\n",
    "def sp_noise(image,prob):\n",
    "    \n",
    "    noise= np.random.poisson(50,image.shape)\n",
    "    plt.hist(noise.ravel(),256,[-256,256]); plt.show()\n",
    "    output= image + noise\n",
    "                \n",
    "    return output\n",
    "\n",
    "\n",
    "\n",
    "image = cv2.imread('test.jpg' , 0) # only for grayscale img\n",
    "noise_img = sp_noise(image, 0.05)\n",
    "\n",
    "plt.subplot(121), plt.imshow(image, cmap=\"gray\")\n",
    "plt.subplot(122), plt.imshow(noise_img, cmap=\"gray\")\n",
    "cv2.imwrite('noise.jpg', noise_img)\n",
    "plt.show()"
   ]
  }
 ],
 "metadata": {
  "kernelspec": {
   "display_name": "Python 3",
   "language": "python",
   "name": "python3"
  },
  "language_info": {
   "codemirror_mode": {
    "name": "ipython",
    "version": 3
   },
   "file_extension": ".py",
   "mimetype": "text/x-python",
   "name": "python",
   "nbconvert_exporter": "python",
   "pygments_lexer": "ipython3",
   "version": "3.8.8"
  }
 },
 "nbformat": 4,
 "nbformat_minor": 5
}
